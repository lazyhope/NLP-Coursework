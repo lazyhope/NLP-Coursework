{
 "cells": [
  {
   "cell_type": "markdown",
   "metadata": {},
   "source": [
    "### Data Analysis"
   ]
  },
  {
   "cell_type": "code",
   "execution_count": 1,
   "metadata": {},
   "outputs": [],
   "source": [
    "import pandas as pd\n",
    "import numpy as np\n",
    "import matplotlib.pyplot as plt\n",
    "import seaborn as sns\n",
    "from sklearn.model_selection import train_test_split\n",
    "from urllib import request"
   ]
  },
  {
   "cell_type": "code",
   "execution_count": 2,
   "metadata": {},
   "outputs": [
    {
     "name": "stdout",
     "output_type": "stream",
     "text": [
      "Fetching https://raw.githubusercontent.com/Perez-AlmendrosC/dontpatronizeme/master/semeval-2022/dont_patronize_me.py\n"
     ]
    }
   ],
   "source": [
    "module_url = f\"https://raw.githubusercontent.com/Perez-AlmendrosC/dontpatronizeme/master/semeval-2022/dont_patronize_me.py\"\n",
    "module_name = module_url.split('/')[-1]\n",
    "print(f'Fetching {module_url}')\n",
    "#with open(\"file_1.txt\") as f1, open(\"file_2.txt\") as f2\n",
    "with request.urlopen(module_url) as f, open(module_name,'w') as outf:\n",
    "  a = f.read()\n",
    "  outf.write(a.decode('utf-8'))\n",
    "\n",
    "from dont_patronize_me import DontPatronizeMe\n",
    "dpm = DontPatronizeMe('./data', 'dontpatronizeme_pcl.tsv')"
   ]
  },
  {
   "cell_type": "code",
   "execution_count": 3,
   "metadata": {},
   "outputs": [],
   "source": [
    "# Define the paths\n",
    "DATA_PATH = \"./data/dontpatronizeme_pcl.tsv\"\n",
    "TRAIN_LABELS_PATH = \"./data/train_semeval_parids-labels.csv\"\n",
    "DEV_LABELS_PATH = \"./data/dev_semeval_parids-labels.csv\""
   ]
  },
  {
   "cell_type": "code",
   "execution_count": 4,
   "metadata": {},
   "outputs": [],
   "source": [
    "# Load data\n",
    "pcl_data = pd.read_csv(DATA_PATH, sep=\"\\t\", header=None, skiprows=3)\n",
    "train_labels = pd.read_csv(TRAIN_LABELS_PATH, sep=\",\")\n",
    "dev_labels = pd.read_csv(DEV_LABELS_PATH, sep=\",\")"
   ]
  },
  {
   "cell_type": "code",
   "execution_count": 5,
   "metadata": {},
   "outputs": [
    {
     "name": "stdout",
     "output_type": "stream",
     "text": [
      "##################################################\n",
      "PCL Data\n",
      "##################################################\n",
      "<class 'pandas.core.frame.DataFrame'>\n",
      "RangeIndex: 10469 entries, 0 to 10468\n",
      "Data columns (total 6 columns):\n",
      " #   Column  Non-Null Count  Dtype \n",
      "---  ------  --------------  ----- \n",
      " 0   0       10469 non-null  int64 \n",
      " 1   1       10469 non-null  object\n",
      " 2   2       10469 non-null  object\n",
      " 3   3       10469 non-null  object\n",
      " 4   4       10468 non-null  object\n",
      " 5   5       10469 non-null  int64 \n",
      "dtypes: int64(2), object(4)\n",
      "memory usage: 490.9+ KB\n",
      "None\n",
      "##################################################\n",
      "Train Labels\n",
      "##################################################\n",
      "<class 'pandas.core.frame.DataFrame'>\n",
      "RangeIndex: 8375 entries, 0 to 8374\n",
      "Data columns (total 2 columns):\n",
      " #   Column  Non-Null Count  Dtype \n",
      "---  ------  --------------  ----- \n",
      " 0   par_id  8375 non-null   int64 \n",
      " 1   label   8375 non-null   object\n",
      "dtypes: int64(1), object(1)\n",
      "memory usage: 131.0+ KB\n",
      "None\n",
      "##################################################\n",
      "Dev Labels\n",
      "##################################################\n",
      "<class 'pandas.core.frame.DataFrame'>\n",
      "RangeIndex: 2094 entries, 0 to 2093\n",
      "Data columns (total 2 columns):\n",
      " #   Column  Non-Null Count  Dtype \n",
      "---  ------  --------------  ----- \n",
      " 0   par_id  2094 non-null   int64 \n",
      " 1   label   2094 non-null   object\n",
      "dtypes: int64(1), object(1)\n",
      "memory usage: 32.8+ KB\n",
      "None\n"
     ]
    }
   ],
   "source": [
    "# Some basic information about the data\n",
    "print('#'*50)\n",
    "print('PCL Data')\n",
    "print('#'*50)\n",
    "print(pcl_data.info())\n",
    "print('#'*50)\n",
    "print('Train Labels')\n",
    "print('#'*50)\n",
    "print(train_labels.info())\n",
    "print('#'*50)\n",
    "print('Dev Labels')\n",
    "print('#'*50)\n",
    "print(dev_labels.info())"
   ]
  },
  {
   "cell_type": "code",
   "execution_count": 6,
   "metadata": {},
   "outputs": [
    {
     "name": "stdout",
     "output_type": "stream",
     "text": [
      "PCL Data\n",
      "##################################################\n",
      "<class 'pandas.core.frame.DataFrame'>\n",
      "RangeIndex: 10469 entries, 0 to 10468\n",
      "Data columns (total 7 columns):\n",
      " #   Column      Non-Null Count  Dtype \n",
      "---  ------      --------------  ----- \n",
      " 0   par_id      10469 non-null  object\n",
      " 1   art_id      10469 non-null  object\n",
      " 2   keyword     10469 non-null  object\n",
      " 3   country     10469 non-null  object\n",
      " 4   text        10469 non-null  object\n",
      " 5   label       10469 non-null  int64 \n",
      " 6   orig_label  10469 non-null  object\n",
      "dtypes: int64(1), object(6)\n",
      "memory usage: 572.7+ KB\n",
      "None\n",
      "##################################################\n",
      "  par_id      art_id    keyword country  \\\n",
      "0      1  @@24942188   hopeless      ph   \n",
      "1      2  @@21968160    migrant      gh   \n",
      "2      3  @@16584954  immigrant      ie   \n",
      "3      4   @@7811231   disabled      nz   \n",
      "4      5   @@1494111    refugee      ca   \n",
      "\n",
      "                                                text  label orig_label  \n",
      "0  We 're living in times of absolute insanity , ...      0          0  \n",
      "1  In Libya today , there are countless number of...      0          0  \n",
      "2  \"White House press secretary Sean Spicer said ...      0          0  \n",
      "3  Council customers only signs would be displaye...      0          0  \n",
      "4  \"\"\" Just like we received migrants fleeing El ...      0          0  \n"
     ]
    }
   ],
   "source": [
    "# Get the data form of task 1\n",
    "dpm.load_task1()\n",
    "pcl_data = dpm.train_task1_df\n",
    "pcl_data['text'] = pcl_data['text'].dropna()\n",
    "print('PCL Data')\n",
    "print('#'*50)\n",
    "print(pcl_data.info())\n",
    "print('#'*50)\n",
    "print(pcl_data.head())"
   ]
  },
  {
   "cell_type": "code",
   "execution_count": 7,
   "metadata": {},
   "outputs": [
    {
     "name": "stdout",
     "output_type": "stream",
     "text": [
      "Train data: 7328\n",
      "Val data: 1047\n",
      "Dev data: 2094\n",
      "Data split successfully!\n"
     ]
    }
   ],
   "source": [
    "# Get the train and dev data\n",
    "# Extract the par_ids from the data\n",
    "def extract_data(data, labels):\n",
    "    rows = []\n",
    "    for idx in range(len(labels)):\n",
    "        par_id = labels.par_id[idx]\n",
    "        keyword = data.loc[data.par_id == par_id].keyword.values[0]\n",
    "        text = data.loc[data.par_id == par_id].text.values[0]\n",
    "        label = data.loc[data.par_id == par_id].label.values[0]\n",
    "\n",
    "        rows.append({\n",
    "            'par_id': par_id,\n",
    "            'keyword': keyword,\n",
    "            'text': text,\n",
    "            'label': label\n",
    "        })\n",
    "    return pd.DataFrame(rows)\n",
    "\n",
    "# In order to remain the dev data for final testing, we will split the train data into train and val data\n",
    "train_labels.par_id = train_labels.par_id.astype(str)\n",
    "dev_labels.par_id = dev_labels.par_id.astype(str)\n",
    "\n",
    "train_data = extract_data(pcl_data, train_labels)\n",
    "test_data = extract_data(pcl_data, dev_labels)\n",
    "\n",
    "# Split the train data into train and val data\n",
    "train_data, val_data = train_test_split(train_data, test_size=int(len(test_data) / 2), random_state=42, stratify=train_data['label'])\n",
    "print(f\"Train data: {len(train_data)}\")\n",
    "print(f\"Val data: {len(val_data)}\")\n",
    "print(f\"Dev data: {len(test_data)}\")\n",
    "\n",
    "if len(pcl_data) == len(train_data) + len(val_data) + len(test_data):\n",
    "    print(\"Data split successfully!\")\n",
    "else:\n",
    "    print(\"Data split failed!\")"
   ]
  },
  {
   "cell_type": "code",
   "execution_count": 8,
   "metadata": {},
   "outputs": [
    {
     "name": "stdout",
     "output_type": "stream",
     "text": [
      "Train data: 7328\n",
      "Val data: 1047\n",
      "Test data: 2093\n"
     ]
    }
   ],
   "source": [
    "# Clear out the None values\n",
    "def clear_none(data):\n",
    "    for idx, row in data.iterrows():\n",
    "        if row.text == \"\":\n",
    "            data.drop(idx, inplace=True)\n",
    "\n",
    "clear_none(train_data)\n",
    "clear_none(val_data)\n",
    "clear_none(test_data)\n",
    "\n",
    "print(f\"Train data: {len(train_data)}\")\n",
    "print(f\"Val data: {len(val_data)}\")\n",
    "print(f\"Test data: {len(test_data)}\")"
   ]
  },
  {
   "cell_type": "code",
   "execution_count": 9,
   "metadata": {},
   "outputs": [
    {
     "name": "stdout",
     "output_type": "stream",
     "text": [
      "Data saved successfully!\n",
      "--------------------------------------------------\n",
      "Train data:\n",
      "      par_id   keyword                                               text  \\\n",
      "4932   4577  disabled  Miller , out since straining his left hamstrin...   \n",
      "4987   4636   in-need  The prologue talks about four friends , who ar...   \n",
      "4759   4391  disabled  He said the home for disabled children relied ...   \n",
      "7054   6924  hopeless  Richard was referring to the Battle of Greece ...   \n",
      "4041   3597     women  It is thought that he may have been involved o...   \n",
      "\n",
      "      label  \n",
      "4932      0  \n",
      "4987      0  \n",
      "4759      0  \n",
      "7054      0  \n",
      "4041      0  \n",
      "--------------------------------------------------\n",
      "Val data:\n",
      "      par_id  keyword                                               text  label\n",
      "6445   6251    women  Far Eastern University rallied from a set down...      0\n",
      "1286    548  refugee  \"\"\" At the moment we do not have plans to rece...      0\n",
      "1722   1041    women  For example , a business selling a product aim...      0\n",
      "5440   5123  in-need  The problems with such an approach are signifi...      0\n",
      "502    4359  refugee  \"\"\" She was always ready to give her time , en...      1\n",
      "--------------------------------------------------\n",
      "Test data:\n",
      "   par_id   keyword                                               text  label\n",
      "0   4046  hopeless  We also know that they can benefit by receivin...      1\n",
      "1   1279   refugee  Pope Francis washed and kissed the feet of Mus...      1\n",
      "2   8330   refugee  Many refugees do n't want to be resettled anyw...      1\n",
      "3   4063   in-need  \"Budding chefs , like \"\" Fred \"\" , \"\" Winston ...      1\n",
      "4   4089  homeless  \"In a 90-degree view of his constituency , one...      1\n"
     ]
    }
   ],
   "source": [
    "# Save the split data\n",
    "train_data.to_csv(\"./data/train_data.csv\", index=False)\n",
    "val_data.to_csv(\"./data/val_data.csv\", index=False)\n",
    "test_data.to_csv(\"./data/test_data.csv\", index=False)\n",
    "\n",
    "print(\"Data saved successfully!\")\n",
    "print(\"-\"*50)\n",
    "print(f\"Train data:\\n {train_data.head()}\")\n",
    "print(\"-\"*50)\n",
    "print(f\"Val data:\\n {val_data.head()}\")\n",
    "print(\"-\"*50)\n",
    "print(f\"Test data:\\n {test_data.head()}\")"
   ]
  }
 ],
 "metadata": {
  "kernelspec": {
   "display_name": "myenv",
   "language": "python",
   "name": "python3"
  },
  "language_info": {
   "codemirror_mode": {
    "name": "ipython",
    "version": 3
   },
   "file_extension": ".py",
   "mimetype": "text/x-python",
   "name": "python",
   "nbconvert_exporter": "python",
   "pygments_lexer": "ipython3",
   "version": "3.12.3"
  }
 },
 "nbformat": 4,
 "nbformat_minor": 2
}
